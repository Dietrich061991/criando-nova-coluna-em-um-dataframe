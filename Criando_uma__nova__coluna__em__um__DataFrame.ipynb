{
  "nbformat": 4,
  "nbformat_minor": 0,
  "metadata": {
    "colab": {
      "name": "Criando_uma _nova _coluna _em _um_ DataFrame",
      "provenance": [],
      "collapsed_sections": []
    },
    "kernelspec": {
      "name": "python3",
      "display_name": "Python 3"
    }
  },
  "cells": [
    {
      "cell_type": "markdown",
      "metadata": {
        "id": "tcWiKLKHfdhX",
        "colab_type": "text"
      },
      "source": [
        "Vamos aprender a criar une nova coluna em um DataFrame mas primeiro vamos criar um dicíonario com pandas para amazenar as notas dos alunos 'Maria','Jose', 'Witoria', depois armazena-lo em um DataFrame e por fim addicionar uma nova coluna que será chamada **Letras** onde todos os alunos tiraram a nota **O**. Primeiro temos que importar a biblioteca pandas para criar o nosso dataframe. Lembrando que cada chave será uma coluna do DataFrame."
      ]
    },
    {
      "cell_type": "code",
      "metadata": {
        "id": "y8idtfCpgJ6Q",
        "colab_type": "code",
        "colab": {}
      },
      "source": [
        "import pandas as pd"
      ],
      "execution_count": null,
      "outputs": []
    },
    {
      "cell_type": "code",
      "metadata": {
        "id": "ULEJ7paJgNsS",
        "colab_type": "code",
        "colab": {}
      },
      "source": [
        "# Criando um dicionário onde cada chave será uma coluna do DataFrame\n",
        "dicionario = {\n",
        "'Alunos':    ['Maria', 'Jose', 'Witoria'],\n",
        "'Historia':  [8, 9 ,10],\n",
        "'Geografia': [10, 9, 7]\n",
        "}"
      ],
      "execution_count": null,
      "outputs": []
    },
    {
      "cell_type": "code",
      "metadata": {
        "id": "z1Z6NwcggR3i",
        "colab_type": "code",
        "colab": {}
      },
      "source": [
        "#Criando o DataFrame\n",
        "df = pd.DataFrame(dicionario, columns=['Alunos','Historia','Geografia'])"
      ],
      "execution_count": null,
      "outputs": []
    },
    {
      "cell_type": "code",
      "metadata": {
        "id": "LovoojKxgct7",
        "colab_type": "code",
        "colab": {
          "base_uri": "https://localhost:8080/",
          "height": 142
        },
        "outputId": "bce40da4-0acf-4bac-dc2d-c59a62f6b4ca"
      },
      "source": [
        "# visualizando o DataFrame\n",
        "df"
      ],
      "execution_count": null,
      "outputs": [
        {
          "output_type": "execute_result",
          "data": {
            "text/html": [
              "<div>\n",
              "<style scoped>\n",
              "    .dataframe tbody tr th:only-of-type {\n",
              "        vertical-align: middle;\n",
              "    }\n",
              "\n",
              "    .dataframe tbody tr th {\n",
              "        vertical-align: top;\n",
              "    }\n",
              "\n",
              "    .dataframe thead th {\n",
              "        text-align: right;\n",
              "    }\n",
              "</style>\n",
              "<table border=\"1\" class=\"dataframe\">\n",
              "  <thead>\n",
              "    <tr style=\"text-align: right;\">\n",
              "      <th></th>\n",
              "      <th>Alunos</th>\n",
              "      <th>Historia</th>\n",
              "      <th>Geografia</th>\n",
              "    </tr>\n",
              "  </thead>\n",
              "  <tbody>\n",
              "    <tr>\n",
              "      <th>0</th>\n",
              "      <td>Maria</td>\n",
              "      <td>8</td>\n",
              "      <td>10</td>\n",
              "    </tr>\n",
              "    <tr>\n",
              "      <th>1</th>\n",
              "      <td>Jose</td>\n",
              "      <td>9</td>\n",
              "      <td>9</td>\n",
              "    </tr>\n",
              "    <tr>\n",
              "      <th>2</th>\n",
              "      <td>Witoria</td>\n",
              "      <td>10</td>\n",
              "      <td>7</td>\n",
              "    </tr>\n",
              "  </tbody>\n",
              "</table>\n",
              "</div>"
            ],
            "text/plain": [
              "    Alunos  Historia  Geografia\n",
              "0    Maria         8         10\n",
              "1     Jose         9          9\n",
              "2  Witoria        10          7"
            ]
          },
          "metadata": {
            "tags": []
          },
          "execution_count": 4
        }
      ]
    },
    {
      "cell_type": "code",
      "metadata": {
        "id": "4aC2pFx_gpyR",
        "colab_type": "code",
        "colab": {}
      },
      "source": [
        "# addicionando uma nova coluna\n",
        "df['Nova Coluna'] = 0"
      ],
      "execution_count": null,
      "outputs": []
    },
    {
      "cell_type": "code",
      "metadata": {
        "id": "KYH3qwrchD89",
        "colab_type": "code",
        "colab": {
          "base_uri": "https://localhost:8080/",
          "height": 142
        },
        "outputId": "1268844f-4b09-4778-feb9-b5a3843973a6"
      },
      "source": [
        "# visualizando o novo nada DataFrame\n",
        "df"
      ],
      "execution_count": null,
      "outputs": [
        {
          "output_type": "execute_result",
          "data": {
            "text/html": [
              "<div>\n",
              "<style scoped>\n",
              "    .dataframe tbody tr th:only-of-type {\n",
              "        vertical-align: middle;\n",
              "    }\n",
              "\n",
              "    .dataframe tbody tr th {\n",
              "        vertical-align: top;\n",
              "    }\n",
              "\n",
              "    .dataframe thead th {\n",
              "        text-align: right;\n",
              "    }\n",
              "</style>\n",
              "<table border=\"1\" class=\"dataframe\">\n",
              "  <thead>\n",
              "    <tr style=\"text-align: right;\">\n",
              "      <th></th>\n",
              "      <th>Alunos</th>\n",
              "      <th>Historia</th>\n",
              "      <th>Geografia</th>\n",
              "      <th>Nova Coluna</th>\n",
              "    </tr>\n",
              "  </thead>\n",
              "  <tbody>\n",
              "    <tr>\n",
              "      <th>0</th>\n",
              "      <td>Maria</td>\n",
              "      <td>8</td>\n",
              "      <td>10</td>\n",
              "      <td>0</td>\n",
              "    </tr>\n",
              "    <tr>\n",
              "      <th>1</th>\n",
              "      <td>Jose</td>\n",
              "      <td>9</td>\n",
              "      <td>9</td>\n",
              "      <td>0</td>\n",
              "    </tr>\n",
              "    <tr>\n",
              "      <th>2</th>\n",
              "      <td>Witoria</td>\n",
              "      <td>10</td>\n",
              "      <td>7</td>\n",
              "      <td>0</td>\n",
              "    </tr>\n",
              "  </tbody>\n",
              "</table>\n",
              "</div>"
            ],
            "text/plain": [
              "    Alunos  Historia  Geografia  Nova Coluna\n",
              "0    Maria         8         10            0\n",
              "1     Jose         9          9            0\n",
              "2  Witoria        10          7            0"
            ]
          },
          "metadata": {
            "tags": []
          },
          "execution_count": 6
        }
      ]
    },
    {
      "cell_type": "markdown",
      "metadata": {
        "id": "24DaeXTYi6jM",
        "colab_type": "text"
      },
      "source": [
        "Pronto acabamos de addicionar a coluna **'Nova Coluna'**"
      ]
    }
  ]
}